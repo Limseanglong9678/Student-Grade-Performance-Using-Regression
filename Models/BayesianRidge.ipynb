{
 "cells": [
  {
   "cell_type": "code",
   "execution_count": 1,
   "metadata": {},
   "outputs": [],
   "source": [
    "import pandas as pd\n",
    "from sklearn.model_selection import train_test_split\n",
    "from sklearn.linear_model import BayesianRidge\n",
    "from sklearn.metrics import mean_absolute_error, mean_squared_error, r2_score\n",
    "from sklearn.preprocessing import StandardScaler, LabelEncoder\n",
    "import numpy as np\n",
    "\n",
    "data = pd.read_csv(\"StudentPerformanceFactors_Cleaned.csv\")"
   ]
  },
  {
   "cell_type": "code",
   "execution_count": 2,
   "metadata": {},
   "outputs": [],
   "source": [
    "categorical_columns = ['Parental_Involvement', 'Access_to_Resources', 'Extracurricular_Activities', \n",
    "                       'Motivation_Level', 'Internet_Access', 'Family_Income', 'Teacher_Quality', \n",
    "                       'School_Type', 'Peer_Influence', 'Learning_Disabilities', 'Parental_Education_Level', \n",
    "                       'Distance_from_Home', 'Gender']\n",
    "\n",
    "label_encoder = LabelEncoder()\n",
    "for col in categorical_columns:\n",
    "    data[col] = label_encoder.fit_transform(data[col])"
   ]
  },
  {
   "cell_type": "code",
   "execution_count": 3,
   "metadata": {},
   "outputs": [],
   "source": [
    "X = data.drop('Exam_Score', axis=1)\n",
    "y = data['Exam_Score']\n",
    "X_train, X_test, y_train, y_test = train_test_split(X, y, test_size=0.2, random_state=42)"
   ]
  },
  {
   "cell_type": "code",
   "execution_count": 4,
   "metadata": {},
   "outputs": [],
   "source": [
    "scaler = StandardScaler()\n",
    "X_train_scaled = scaler.fit_transform(X_train)\n",
    "X_test_scaled = scaler.transform(X_test)\n",
    "\n",
    "bayesian_ridge_model = BayesianRidge()\n",
    "bayesian_ridge_model.fit(X_train_scaled, y_train)\n",
    "\n",
    "y_pred = bayesian_ridge_model.predict(X_test_scaled)"
   ]
  },
  {
   "cell_type": "code",
   "execution_count": 5,
   "metadata": {},
   "outputs": [
    {
     "name": "stdout",
     "output_type": "stream",
     "text": [
      "Predicted outcome for the sample input: 69.1144105521748\n"
     ]
    },
    {
     "name": "stderr",
     "output_type": "stream",
     "text": [
      "C:\\Users\\U-ser\\Downloads\\New folder\\envs\\ev_OG\\Lib\\site-packages\\sklearn\\base.py:493: UserWarning: X does not have valid feature names, but StandardScaler was fitted with feature names\n",
      "  warnings.warn(\n"
     ]
    }
   ],
   "source": [
    "sample_input = [\n",
    "    23,  # Hours_Studied\n",
    "    84,  # Attendance\n",
    "    1,   # Parental_Involvement (encoded value)\n",
    "    0,   # Access_to_Resources (encoded value)\n",
    "    0,   # Extracurricular_Activities (encoded value)\n",
    "    7,   # Sleep_Hours\n",
    "    73,  # Previous_Scores\n",
    "    1,   # Motivation_Level (encoded value)\n",
    "    1,   # Internet_Access (encoded value)\n",
    "    0,   # Tutoring_Sessions\n",
    "    1,   # Family_Income (encoded value)\n",
    "    2,   # Teacher_Quality (encoded value)\n",
    "    1,   # School_Type (encoded value)\n",
    "    2,   # Peer_Influence (encoded value)\n",
    "    3,   # Physical_Activity\n",
    "    0,   # Learning_Disabilities (encoded value)\n",
    "    1,   # Parental_Education_Level (encoded value)\n",
    "    2,   # Distance_from_Home (encoded value)\n",
    "    1,   # Gender (encoded value)\n",
    "]\n",
    "\n",
    "sample_input = np.array(sample_input).reshape(1, -1)\n",
    "sample_input_scaled = scaler.transform(sample_input)\n",
    "sample_prediction = bayesian_ridge_model.predict(sample_input_scaled)\n",
    "print(\"Predicted outcome for the sample input:\", sample_prediction[0])"
   ]
  },
  {
   "cell_type": "code",
   "execution_count": 6,
   "metadata": {},
   "outputs": [],
   "source": [
    "mae = mean_absolute_error(y_test, y_pred)\n",
    "mse = mean_squared_error(y_test, y_pred)\n",
    "rmse = np.sqrt(mse)\n",
    "r2 = r2_score(y_test, y_pred)"
   ]
  },
  {
   "cell_type": "code",
   "execution_count": 7,
   "metadata": {},
   "outputs": [
    {
     "name": "stdout",
     "output_type": "stream",
     "text": [
      "Mean Absolute Error: 1.0482645315512396\n"
     ]
    }
   ],
   "source": [
    "print(f\"Mean Absolute Error: {mae}\")"
   ]
  },
  {
   "cell_type": "code",
   "execution_count": 8,
   "metadata": {},
   "outputs": [
    {
     "name": "stdout",
     "output_type": "stream",
     "text": [
      "Mean Squared Error: 5.2706716449914905\n"
     ]
    }
   ],
   "source": [
    "print(f\"Mean Squared Error: {mse}\")"
   ]
  },
  {
   "cell_type": "code",
   "execution_count": 9,
   "metadata": {},
   "outputs": [
    {
     "name": "stdout",
     "output_type": "stream",
     "text": [
      "Root Mean Squared Error: 2.295794338565955\n"
     ]
    }
   ],
   "source": [
    "print(f\"Root Mean Squared Error: {rmse}\")"
   ]
  },
  {
   "cell_type": "code",
   "execution_count": 10,
   "metadata": {},
   "outputs": [
    {
     "name": "stdout",
     "output_type": "stream",
     "text": [
      "R-squared: 0.663293377665175\n"
     ]
    }
   ],
   "source": [
    "print(f\"R-squared: {r2}\")"
   ]
  },
  {
   "cell_type": "code",
   "execution_count": null,
   "metadata": {},
   "outputs": [],
   "source": []
  }
 ],
 "metadata": {
  "kernelspec": {
   "display_name": "Python 3 (ipykernel)",
   "language": "python",
   "name": "python3"
  },
  "language_info": {
   "codemirror_mode": {
    "name": "ipython",
    "version": 3
   },
   "file_extension": ".py",
   "mimetype": "text/x-python",
   "name": "python",
   "nbconvert_exporter": "python",
   "pygments_lexer": "ipython3",
   "version": "3.12.7"
  }
 },
 "nbformat": 4,
 "nbformat_minor": 4
}
